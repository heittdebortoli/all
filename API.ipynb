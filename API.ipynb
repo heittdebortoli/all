{
  "nbformat": 4,
  "nbformat_minor": 0,
  "metadata": {
    "colab": {
      "provenance": []
    },
    "kernelspec": {
      "name": "python3",
      "display_name": "Python 3"
    },
    "language_info": {
      "name": "python"
    }
  },
  "cells": [
    {
      "cell_type": "code",
      "source": [
        "import requests"
      ],
      "metadata": {
        "id": "aJ_1QpMG2MDS"
      },
      "execution_count": null,
      "outputs": []
    },
    {
      "cell_type": "code",
      "source": [
        "cep=input(\"digite seu cep:\")\n",
        "print(cep)"
      ],
      "metadata": {
        "colab": {
          "base_uri": "https://localhost:8080/"
        },
        "id": "pn7ab7FS2VnZ",
        "outputId": "9575252e-6c64-4327-f379-b81e6bca5f51"
      },
      "execution_count": null,
      "outputs": [
        {
          "output_type": "stream",
          "name": "stdout",
          "text": [
            "digite seu cep:04205000\n",
            "04205000\n"
          ]
        }
      ]
    },
    {
      "cell_type": "code",
      "source": [
        "resposta=requests.get(f\"https://viacep.com.br/ws/{cep}/json/\")\n",
        "print(resposta)\n",
        "resposta.json()"
      ],
      "metadata": {
        "colab": {
          "base_uri": "https://localhost:8080/"
        },
        "id": "DrL8Hf6-25m6",
        "outputId": "b87e5f82-9ac4-41cb-ccbf-c15b12ed96ba"
      },
      "execution_count": null,
      "outputs": [
        {
          "output_type": "stream",
          "name": "stdout",
          "text": [
            "<Response [200]>\n"
          ]
        },
        {
          "output_type": "execute_result",
          "data": {
            "text/plain": [
              "{'cep': '04205-000',\n",
              " 'logradouro': 'Rua Cipriano Barata',\n",
              " 'complemento': 'até 1199/1200',\n",
              " 'bairro': 'Ipiranga',\n",
              " 'localidade': 'São Paulo',\n",
              " 'uf': 'SP',\n",
              " 'ibge': '3550308',\n",
              " 'gia': '1004',\n",
              " 'ddd': '11',\n",
              " 'siafi': '7107'}"
            ]
          },
          "metadata": {},
          "execution_count": 11
        }
      ]
    },
    {
      "cell_type": "code",
      "source": [
        "import requests\n",
        "import json\n",
        "resposta=requests.get(\"https://api.nasa.gov/mars-photos/api/v1/rovers/curiosity/photos?sol=1000&page=2&api_key=JeNykw6WqpEjkYRFNsB5LgpR3mtzSWe6P4ePVw7G\")\n",
        "print(resposta)\n",
        "resposta.json()\n",
        "print(\"o link da foto é:\", \"http://mars.jpl.nasa.gov/msl-raw-images/msss/01000/mcam/1000ML0044631200305217E01_DXXX.jpg\")"
      ],
      "metadata": {
        "colab": {
          "base_uri": "https://localhost:8080/"
        },
        "id": "BpSFpNPprCex",
        "outputId": "8a84f820-38f7-489d-cb94-fe1c106f1d22"
      },
      "execution_count": 6,
      "outputs": [
        {
          "output_type": "stream",
          "name": "stdout",
          "text": [
            "<Response [200]>\n",
            "o link da foto é: http://mars.jpl.nasa.gov/msl-raw-images/msss/01000/mcam/1000ML0044631200305217E01_DXXX.jpg\n"
          ]
        }
      ]
    }
  ]
}